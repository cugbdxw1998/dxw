{
 "cells": [
  {
   "cell_type": "code",
   "execution_count": 1,
   "id": "objective-recipe",
   "metadata": {},
   "outputs": [],
   "source": [
    "import geemap\n",
    "import ee\n",
    "geemap.set_proxy(port=7890)"
   ]
  },
  {
   "cell_type": "code",
   "execution_count": 2,
   "id": "forty-gardening",
   "metadata": {},
   "outputs": [
    {
     "data": {
      "application/vnd.jupyter.widget-view+json": {
       "model_id": "5dfa8b06e83942a8a49af5621a1e3d36",
       "version_major": 2,
       "version_minor": 0
      },
      "text/plain": [
       "Map(center=[40, 100], controls=(WidgetControl(options=['position'], widget=HBox(children=(ToggleButton(value=F…"
      ]
     },
     "metadata": {},
     "output_type": "display_data"
    }
   ],
   "source": [
    "Map=geemap.Map(center=(40,100),zoom=4)\n",
    "Map"
   ]
  },
  {
   "cell_type": "code",
   "execution_count": 3,
   "id": "tamil-mountain",
   "metadata": {},
   "outputs": [],
   "source": [
    "dataset = ee.ImageCollection('TRMM/3B43V7') \\\n",
    "                  .filter(ee.Filter.date('2018-04-01', '2018-05-01'))\n",
    "precipitation = dataset.select('precipitation')\n",
    "precipitationVis = {\n",
    "  'min': 0.1,\n",
    "  'max': 1.2,\n",
    "  'palette': ['blue', 'purple', 'cyan', 'green', 'yellow', 'red'],\n",
    "}\n",
    "\n",
    "Map.addLayer(precipitation, precipitationVis, 'Precipitation')\n"
   ]
  },
  {
   "cell_type": "code",
   "execution_count": 4,
   "id": "developing-apparel",
   "metadata": {
    "scrolled": true
   },
   "outputs": [
    {
     "data": {
      "application/vnd.jupyter.widget-view+json": {
       "model_id": "fb92dc53f67d4a9a809106a076b17fa7",
       "version_major": 2,
       "version_minor": 0
      },
      "text/plain": [
       "HBox(children=(VBox(), VBox()))"
      ]
     },
     "metadata": {},
     "output_type": "display_data"
    }
   ],
   "source": [
    "geemap.ee_search()"
   ]
  },
  {
   "cell_type": "code",
   "execution_count": 5,
   "id": "statewide-court",
   "metadata": {},
   "outputs": [],
   "source": [
    "dataset_kje = ee.FeatureCollection('users/cugbxwd/changjiangyuan').geometry()\n",
    "Map.addLayer(dataset_kje, {}, \"changjiangyuan\")"
   ]
  },
  {
   "cell_type": "code",
   "execution_count": 6,
   "id": "collective-hampshire",
   "metadata": {},
   "outputs": [],
   "source": [
    "collection=precipitation.sum().clip(dataset_kje)\n",
    "precipitationVis = {\n",
    "  'min': 0.1,\n",
    "  'max': 1.2,\n",
    "  'palette': ['blue', 'purple', 'cyan', 'green', 'yellow', 'red'],\n",
    "}\n",
    "\n",
    "Map.addLayer(collection, precipitationVis, 'collection')"
   ]
  },
  {
   "cell_type": "code",
   "execution_count": 7,
   "id": "selected-inquiry",
   "metadata": {},
   "outputs": [
    {
     "name": "stdout",
     "output_type": "stream",
     "text": [
      "Exporting changjiangyuan2 ...\n"
     ]
    }
   ],
   "source": [
    "geemap.ee_export_image_to_drive(collection, description='changjiangyuan2', folder='CJY',region=dataset_kje,scale=25000,file_format='GeoTIFF')"
   ]
  },
  {
   "cell_type": "code",
   "execution_count": null,
   "id": "honest-blair",
   "metadata": {},
   "outputs": [],
   "source": []
  }
 ],
 "metadata": {
  "kernelspec": {
   "display_name": "Python 3",
   "language": "python",
   "name": "python3"
  },
  "language_info": {
   "codemirror_mode": {
    "name": "ipython",
    "version": 3
   },
   "file_extension": ".py",
   "mimetype": "text/x-python",
   "name": "python",
   "nbconvert_exporter": "python",
   "pygments_lexer": "ipython3",
   "version": "3.8.5"
  }
 },
 "nbformat": 4,
 "nbformat_minor": 5
}
