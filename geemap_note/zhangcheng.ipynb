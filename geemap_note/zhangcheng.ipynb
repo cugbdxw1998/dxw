{
 "cells": [
  {
   "cell_type": "code",
   "execution_count": 1,
   "id": "mexican-platinum",
   "metadata": {},
   "outputs": [],
   "source": [
    "import ee\n",
    "import geemap"
   ]
  },
  {
   "cell_type": "code",
   "execution_count": 3,
   "id": "ultimate-california",
   "metadata": {},
   "outputs": [],
   "source": [
    "geemap.set_proxy(port=1080)"
   ]
  },
  {
   "cell_type": "code",
   "execution_count": 4,
   "id": "naval-prison",
   "metadata": {
    "scrolled": true
   },
   "outputs": [],
   "source": [
    "Map=geemap.Map()"
   ]
  },
  {
   "cell_type": "code",
   "execution_count": null,
   "id": "thorough-prague",
   "metadata": {},
   "outputs": [],
   "source": [
    "geemap.ee_search()"
   ]
  },
  {
   "cell_type": "code",
   "execution_count": null,
   "id": "differential-arthritis",
   "metadata": {},
   "outputs": [],
   "source": [
    "zc= ee.FeatureCollection('users/cugbxwd/zhangcheng')\n",
    "Map.addLayer(zc, {}, \"zhangcheng\")"
   ]
  },
  {
   "cell_type": "code",
   "execution_count": null,
   "id": "brutal-matthew",
   "metadata": {},
   "outputs": [],
   "source": [
    "import os\n",
    "import numpy as np\n",
    "import matplotlib.pyplot as plt"
   ]
  },
  {
   "cell_type": "code",
   "execution_count": null,
   "id": "undefined-revision",
   "metadata": {
    "scrolled": false
   },
   "outputs": [],
   "source": [
    "dataset = ee.ImageCollection('MODIS/006/MOD16A2') \\\n",
    "                  .filter(ee.Filter.date('2019-07-04', '2019-07-08'))\n",
    "evapotranspiration = dataset.select('ET')\n",
    "evapotranspirationVis = {\n",
    "  'min': 0.0,\n",
    "  'max': 300.0,\n",
    "  'palette': [\n",
    "    'ffffff', 'fcd163', '99b718', '66a000', '3e8601', '207401', '056201',\n",
    "    '004c00', '011301'\n",
    "  ],\n",
    "}\n",
    "Map.addLayer(evapotranspiration, evapotranspirationVis, 'Evapotranspiration')\n",
    "Map"
   ]
  },
  {
   "cell_type": "code",
   "execution_count": null,
   "id": "swedish-kitchen",
   "metadata": {},
   "outputs": [],
   "source": [
    "collection=evapotranspiration.mean().clip(zc.geometry())\n",
    "Map.addLayer(collection, evapotranspirationVis, 'Evapotranspiration')\n",
    "Map"
   ]
  },
  {
   "cell_type": "code",
   "execution_count": null,
   "id": "integral-roller",
   "metadata": {
    "scrolled": false
   },
   "outputs": [],
   "source": [
    "geemap.ee_export_image_to_drive(collection, description='et201974', folder='export', region=zc.geometry(), scale=500,file_format='GeoTIFF')"
   ]
  },
  {
   "cell_type": "code",
   "execution_count": null,
   "id": "moderate-consultancy",
   "metadata": {},
   "outputs": [],
   "source": [
    "import os\n",
    "out_dir = os.path.join(\"E:\\\\zhangcheng\")\n",
    "filename = os.path.join(out_dir, 'et201974.csv')  "
   ]
  },
  {
   "cell_type": "code",
   "execution_count": null,
   "id": "boring-doubt",
   "metadata": {},
   "outputs": [],
   "source": [
    "geemap.zonal_statistics(evapotranspiration, zc, filename, statistics_type='MEAN', scale=500)"
   ]
  },
  {
   "cell_type": "code",
   "execution_count": null,
   "id": "blank-ecuador",
   "metadata": {
    "scrolled": true
   },
   "outputs": [],
   "source": [
    "geemap.ee_export_image_collection_to_drive(evapotranspiration, folder=\"zc_et\", region=zc.geometry(), scale=500, file_format='GeoTIFF')"
   ]
  },
  {
   "cell_type": "code",
   "execution_count": null,
   "id": "modern-reliance",
   "metadata": {},
   "outputs": [],
   "source": []
  }
 ],
 "metadata": {
  "kernelspec": {
   "display_name": "Python 3",
   "language": "python",
   "name": "python3"
  },
  "language_info": {
   "codemirror_mode": {
    "name": "ipython",
    "version": 3
   },
   "file_extension": ".py",
   "mimetype": "text/x-python",
   "name": "python",
   "nbconvert_exporter": "python",
   "pygments_lexer": "ipython3",
   "version": "3.8.5"
  }
 },
 "nbformat": 4,
 "nbformat_minor": 5
}
