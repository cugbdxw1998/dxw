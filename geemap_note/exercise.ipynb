{
 "cells": [
  {
   "cell_type": "code",
   "execution_count": 2,
   "id": "orange-pharmaceutical",
   "metadata": {},
   "outputs": [],
   "source": [
    "import geemap\n",
    "import os\n",
    "import ee\n",
    "geemap.set_proxy(port=7890)"
   ]
  },
  {
   "cell_type": "code",
   "execution_count": 3,
   "id": "configured-career",
   "metadata": {},
   "outputs": [
    {
     "data": {
      "application/vnd.jupyter.widget-view+json": {
       "model_id": "e292f249672d4013b49bde6b981d32a8",
       "version_major": 2,
       "version_minor": 0
      },
      "text/plain": [
       "Map(center=[40, -100], controls=(WidgetControl(options=['position'], widget=HBox(children=(ToggleButton(value=…"
      ]
     },
     "metadata": {},
     "output_type": "display_data"
    }
   ],
   "source": [
    "Map=geemap.Map()\n",
    "Map"
   ]
  },
  {
   "cell_type": "code",
   "execution_count": 4,
   "id": "dirty-shareware",
   "metadata": {},
   "outputs": [
    {
     "data": {
      "application/vnd.jupyter.widget-view+json": {
       "model_id": "0515ada5a87b4984a1c2bd3f99e766d6",
       "version_major": 2,
       "version_minor": 0
      },
      "text/plain": [
       "HBox(children=(VBox(), VBox()))"
      ]
     },
     "metadata": {},
     "output_type": "display_data"
    },
    {
     "data": {
      "application/javascript": [
       "\n",
       "        var code = IPython.notebook.insert_cell_below('code');\n",
       "        code.set_text(atob(\"aW1wb3J0IGVlIAppbXBvcnQgZ2VlbWFwCgojIENyZWF0ZSBhIG1hcCBjZW50ZXJlZCBhdCAobGF0LCBsb24pLgpNYXAgPSBnZWVtYXAuTWFwKGNlbnRlcj1bNDAsIC0xMDBdLCB6b29tPTQpCgojIFRoaXMgZXhhbXBsZSB1c2VzIHRoZSBTZW50aW5lbC0yIFFBIGJhbmQgdG8gY2xvdWQgbWFzawojIHRoZSBjb2xsZWN0aW9uLiAgVGhlIFNlbnRpbmVsLTIgY2xvdWQgZmxhZ3MgYXJlIGxlc3MKIyBzZWxlY3RpdmUsIHNvIHRoZSBjb2xsZWN0aW9uIGlzIGFsc28gcHJlLWZpbHRlcmVkIGJ5IHRoZQojIENMT1VEWV9QSVhFTF9QRVJDRU5UQUdFIGZsYWcsIHRvIHVzZSBvbmx5IHJlbGF0aXZlbHkKIyBjbG91ZC1mcmVlIGdyYW51bGUuCgojIEZ1bmN0aW9uIHRvIG1hc2sgY2xvdWRzIHVzaW5nIHRoZSBTZW50aW5lbC0yIFFBIGJhbmQuCiMgZnVuY3Rpb24gbWFza1MyY2xvdWRzKGltYWdlKSB7CmRlZiBtYXNrUzJjbG91ZHMoaW1hZ2UpOgogIHFhID0gaW1hZ2Uuc2VsZWN0KCdRQTYwJykKCiAgIyBCaXRzIDEwIGFuZCAxMSBhcmUgY2xvdWRzIGFuZCBjaXJydXMsIHJlc3BlY3RpdmVseS4KICBjbG91ZEJpdE1hc2sgPSAxIDw8IDEwCiAgY2lycnVzQml0TWFzayA9IDEgPDwgMTEKCiAgIyBCb3RoIGZsYWdzIHNob3VsZCBiZSBzZXQgdG8gemVybywgaW5kaWNhdGluZyBjbGVhciBjb25kaXRpb25zLgogIG1hc2sgPSBxYS5iaXR3aXNlQW5kKGNsb3VkQml0TWFzaykuZXEoMCkuQW5kKAogICAgICAgICAgICAgcWEuYml0d2lzZUFuZChjaXJydXNCaXRNYXNrKS5lcSgwKSkKCiAgIyBSZXR1cm4gdGhlIG1hc2tlZCBhbmQgc2NhbGVkIGRhdGEsIHdpdGhvdXQgdGhlIFFBIGJhbmRzLgogIHJldHVybiBpbWFnZS51cGRhdGVNYXNrKG1hc2spLmRpdmlkZSgxMDAwMCkgXAogICAgICAuc2VsZWN0KCJCLioiKSBcCiAgICAgIC5jb3B5UHJvcGVydGllcyhpbWFnZSwgWyJzeXN0ZW06dGltZV9zdGFydCJdKQojIH0KCiMgTWFwIHRoZSBmdW5jdGlvbiBvdmVyIG9uZSB5ZWFyIG9mIGRhdGEgYW5kIHRha2UgdGhlIG1lZGlhbi4KIyBMb2FkIFNlbnRpbmVsLTIgVE9BIHJlZmxlY3RhbmNlIGRhdGEuCmNvbGxlY3Rpb24gPSBlZS5JbWFnZUNvbGxlY3Rpb24oJ0NPUEVSTklDVVMvUzInKSBcCiAgICAuZmlsdGVyRGF0ZSgnMjAxNi0wMS0wMScsICcyMDE2LTEyLTMxJykgXAogICAgLmZpbHRlcihlZS5GaWx0ZXIubHQoJ0NMT1VEWV9QSVhFTF9QRVJDRU5UQUdFJywgMjApKSBcCiAgICAubWFwKG1hc2tTMmNsb3VkcykKCmNvbXBvc2l0ZSA9IGNvbGxlY3Rpb24ubWVkaWFuKCkKCiMgRGlzcGxheSB0aGUgcmVzdWx0cy4KTWFwLmFkZExheWVyKGNvbXBvc2l0ZSwgeydiYW5kcyc6IFsnQjQnLCAnQjMnLCAnQjInXSwgJ21pbic6IDAsICdtYXgnOiAwLjN9LCAnUkdCJykKCiMgRGlzcGxheSB0aGUgbWFwLgpNYXAK\"));\n",
       "    "
      ],
      "text/plain": [
       "<IPython.core.display.Javascript object>"
      ]
     },
     "metadata": {},
     "output_type": "display_data"
    }
   ],
   "source": [
    "geemap.ee_search()"
   ]
  },
  {
   "cell_type": "code",
   "execution_count": 9,
   "id": "destroyed-basics",
   "metadata": {},
   "outputs": [
    {
     "data": {
      "application/vnd.jupyter.widget-view+json": {
       "model_id": "87fbfb1e78b84715afc8607699702be9",
       "version_major": 2,
       "version_minor": 0
      },
      "text/plain": [
       "Map(center=[40, -100], controls=(WidgetControl(options=['position'], widget=HBox(children=(ToggleButton(value=…"
      ]
     },
     "metadata": {},
     "output_type": "display_data"
    }
   ],
   "source": [
    "import ee \n",
    "import geemap\n",
    "\n",
    "# Create a map centered at (lat, lon).\n",
    "Map = geemap.Map(center=[40, -100], zoom=4)\n",
    "\n",
    "# This example uses the Sentinel-2 QA band to cloud mask\n",
    "# the collection.  The Sentinel-2 cloud flags are less\n",
    "# selective, so the collection is also pre-filtered by the\n",
    "# CLOUDY_PIXEL_PERCENTAGE flag, to use only relatively\n",
    "# cloud-free granule.\n",
    "\n",
    "# Function to mask clouds using the Sentinel-2 QA band.\n",
    "# function maskS2clouds(image) {\n",
    "def maskS2clouds(image):\n",
    "  qa = image.select('QA60')\n",
    "\n",
    "  # Bits 10 and 11 are clouds and cirrus, respectively.\n",
    "  cloudBitMask = 1 << 10\n",
    "  cirrusBitMask = 1 << 11\n",
    "\n",
    "  # Both flags should be set to zero, indicating clear conditions.\n",
    "  mask = qa.bitwiseAnd(cloudBitMask).eq(0).And(\n",
    "             qa.bitwiseAnd(cirrusBitMask).eq(0))\n",
    "\n",
    "  # Return the masked and scaled data, without the QA bands.\n",
    "  return image.updateMask(mask).divide(10000) \\\n",
    "      .select(\"B.*\") \\\n",
    "      .copyProperties(image, [\"system:time_start\"])\n",
    "# }\n",
    "\n",
    "# Map the function over one year of data and take the median.\n",
    "# Load Sentinel-2 TOA reflectance data.\n",
    "collection = ee.ImageCollection('COPERNICUS/S2') \\\n",
    "    .filterDate('2016-09-01', '2016-10-30') \\\n",
    "    .filter(ee.Filter.lt('CLOUDY_PIXEL_PERCENTAGE', 20)) \\\n",
    "    .map(maskS2clouds)\n",
    "\n",
    "composite = collection.median().clip(roi)\n",
    "\n",
    "# Display the results.\n",
    "Map.addLayer(composite, {'bands': ['B4', 'B3', 'B2'], 'min': 0, 'max': 0.3}, 'RGB')\n",
    "\n",
    "# Display the map.\n",
    "Map\n"
   ]
  },
  {
   "cell_type": "code",
   "execution_count": 6,
   "id": "pointed-behavior",
   "metadata": {
    "scrolled": true
   },
   "outputs": [],
   "source": [
    "roi= ee.FeatureCollection('users/cugbxwd/qaidam').geometry()\n",
    "Map.addLayer(roi, {}, \"qaidam\")"
   ]
  },
  {
   "cell_type": "code",
   "execution_count": 10,
   "id": "revolutionary-publication",
   "metadata": {},
   "outputs": [],
   "source": [
    "def maskL8sr(image):\n",
    "  # Bits 3 and 5 are cloud shadow and cloud, respectively.\n",
    "  cloudShadowBitMask = 1 << 3\n",
    "  cloudsBitMask = 1 << 5\n",
    "\n",
    "  # Get the pixel QA band.\n",
    "  qa = image.select('pixel_qa')\n",
    "\n",
    "  # Both flags should be set to zero, indicating clear conditions.\n",
    "  mask = qa.bitwiseAnd(cloudShadowBitMask).eq(0) \\\n",
    "      .And(qa.bitwiseAnd(cloudsBitMask).eq(0))\n",
    "\n",
    "  # Return the masked image, scaled to reflectance, without the QA bands.\n",
    "  return image.updateMask(mask).divide(10000) \\\n",
    "      .select(\"B[0-9]*\") \\\n",
    "      .copyProperties(image, [\"system:time_start\"])\n",
    "# }"
   ]
  },
  {
   "cell_type": "code",
   "execution_count": 12,
   "id": "public-shopping",
   "metadata": {
    "scrolled": false
   },
   "outputs": [
    {
     "data": {
      "application/vnd.jupyter.widget-view+json": {
       "model_id": "87fbfb1e78b84715afc8607699702be9",
       "version_major": 2,
       "version_minor": 0
      },
      "text/plain": [
       "Map(bottom=25784.0, center=[37.10776507118514, -265.8773803710938], controls=(WidgetControl(options=['position…"
      ]
     },
     "metadata": {},
     "output_type": "display_data"
    }
   ],
   "source": [
    "collection = ee.ImageCollection('LANDSAT/LC08/C01/T1_SR') \\\n",
    "    .filterDate('2013-07-01', '2013-9-30')\\\n",
    "    .map(maskL8sr)\n",
    "\n",
    "composite = collection.select(['B4', 'B3', 'B2']).median().clip(roi)\n",
    "\n",
    "# Display the results.\n",
    "Map.addLayer(composite, { 'min': 0, 'max': 0.3}, 'Image')\n",
    "\n",
    "# Display the map.\n",
    "Map"
   ]
  },
  {
   "cell_type": "code",
   "execution_count": null,
   "id": "damaged-aggregate",
   "metadata": {},
   "outputs": [],
   "source": [
    "Map.draw_features"
   ]
  },
  {
   "cell_type": "code",
   "execution_count": null,
   "id": "rational-decision",
   "metadata": {},
   "outputs": [],
   "source": [
    "roi = ee.FeatureCollection(Map.draw_features).geometry()"
   ]
  },
  {
   "cell_type": "code",
   "execution_count": null,
   "id": "minus-aircraft",
   "metadata": {},
   "outputs": [],
   "source": [
    "print(composite.getInfo())"
   ]
  },
  {
   "cell_type": "code",
   "execution_count": 13,
   "id": "equivalent-capability",
   "metadata": {},
   "outputs": [
    {
     "name": "stdout",
     "output_type": "stream",
     "text": [
      "Exporting qaidam_landsat ...\n"
     ]
    }
   ],
   "source": [
    "geemap.ee_export_image_to_drive(composite, \"qaidam_landsat\", folder=\"Qaidam\", region=roi , scale=300, crs=None, file_format='GeoTIFF',format_options={ 'cloudOptimized': True})"
   ]
  },
  {
   "cell_type": "code",
   "execution_count": null,
   "id": "resident-textbook",
   "metadata": {},
   "outputs": [],
   "source": [
    "roi = ee.FeatureCollection('users/cugbxwd/resize').geometry()\n",
    "Map.addLayer(roi, {}, \"resize\")\n",
    "Map.centerObject(roi, 7)"
   ]
  },
  {
   "cell_type": "code",
   "execution_count": null,
   "id": "atomic-orlando",
   "metadata": {},
   "outputs": [],
   "source": [
    "geemap.ee_search()"
   ]
  },
  {
   "cell_type": "code",
   "execution_count": null,
   "id": "instant-aircraft",
   "metadata": {},
   "outputs": [],
   "source": [
    "images = ee.ImageCollection('LANDSAT/LC08/C01/T1_SR') \\\n",
    "    .filterBounds(roi) \\\n",
    "    .filterDate('2015-01-01', '2019-12-31') \\\n",
    "    .sort('CLOUD_COVER')"
   ]
  },
  {
   "cell_type": "code",
   "execution_count": null,
   "id": "pretty-machinery",
   "metadata": {},
   "outputs": [],
   "source": [
    "print(images.size().getInfo())"
   ]
  },
  {
   "cell_type": "code",
   "execution_count": null,
   "id": "wooden-stress",
   "metadata": {},
   "outputs": [],
   "source": [
    "best_image = images.first().select(['B1', 'B2', 'B3', 'B4',  'B5', 'B6', 'B7'])"
   ]
  },
  {
   "cell_type": "code",
   "execution_count": null,
   "id": "several-dealing",
   "metadata": {},
   "outputs": [],
   "source": [
    "print(best_image.getInfo())"
   ]
  },
  {
   "cell_type": "code",
   "execution_count": null,
   "id": "beautiful-dublin",
   "metadata": {},
   "outputs": [],
   "source": [
    "dataset_jxd = ee.ImageCollection(\"MODIS/006/MOD09Q1\")\n",
    "falseColorVis = {\n",
    "  'min': -100.0,\n",
    "  'max': 8000.0,\n",
    "  'bands': ['sur_refl_b02', 'sur_refl_b02', 'sur_refl_b01'],\n",
    "}\n",
    "Map.addLayer(dataset_jxd, falseColorVis, \"MODIS/006/MOD09Q1\")"
   ]
  },
  {
   "cell_type": "code",
   "execution_count": null,
   "id": "fewer-north",
   "metadata": {},
   "outputs": [],
   "source": [
    "collections=dataset_jxd.filterBounds(roi) .filterDate('2020-01-01', '2021-01-01').median().clip(roi)\n",
    "falseColorVis = {\n",
    "  'min': -100.0,\n",
    "  'max': 8000.0,\n",
    "  'bands': ['sur_refl_b02', 'sur_refl_b02', 'sur_refl_b01'],\n",
    "}\n",
    "Map.addLayer(collections, falseColorVis, \"coleections\")"
   ]
  },
  {
   "cell_type": "code",
   "execution_count": null,
   "id": "confused-pantyhose",
   "metadata": {},
   "outputs": [],
   "source": [
    "collections.size().getInfo()"
   ]
  },
  {
   "cell_type": "code",
   "execution_count": null,
   "id": "arabic-introduction",
   "metadata": {},
   "outputs": [],
   "source": [
    "collection = ee.ImageCollection('LANDSAT/LC08/C01/T1_TOA') \\\n",
    "    .filterBounds(roi) \\\n",
    "    .filterDate('2020-01-01', '2021-01-01')"
   ]
  },
  {
   "cell_type": "code",
   "execution_count": null,
   "id": "biological-arizona",
   "metadata": {},
   "outputs": [],
   "source": [
    "image = collection.median().clipToCollection(roi)\n",
    "Map.addLayer(image, {'bands': ['B3', 'B2', 'B5'], 'max': 0.3}, 'Landsat 2020')"
   ]
  },
  {
   "cell_type": "code",
   "execution_count": null,
   "id": "silver-brief",
   "metadata": {},
   "outputs": [],
   "source": [
    "list=[]\n"
   ]
  },
  {
   "cell_type": "code",
   "execution_count": null,
   "id": "optional-mainland",
   "metadata": {},
   "outputs": [],
   "source": [
    "images = geemap.landsat_timeseries(roi=roi,start_year=1990, end_year=2020, start_date='01-01', end_date='12-31')"
   ]
  },
  {
   "cell_type": "code",
   "execution_count": null,
   "id": "subtle-mainstream",
   "metadata": {},
   "outputs": [],
   "source": [
    "first = images.first()\n",
    "\n",
    "vis_params = {\n",
    "    'bands': ['NIR', 'Red', 'Green'],\n",
    "    'min': 0,\n",
    "    'max': 3000\n",
    "}\n",
    "\n",
    "Map.addLayer(first, vis_params, 'First image')"
   ]
  },
  {
   "cell_type": "code",
   "execution_count": null,
   "id": "occasional-plumbing",
   "metadata": {},
   "outputs": [],
   "source": [
    "ndwi_images = images.map(lambda img: img.normalizedDifference(['Green', 'SWIR1']).rename('ndwi'))\n",
    "\n",
    "ndwi_palette = ['#ece7f2', '#d0d1e6', '#a6bddb', '#74a9cf', '#3690c0', '#0570b0', '#045a8d', '#023858']\n",
    "\n",
    "first_ndwi = ndwi_images.first()\n",
    "\n",
    "Map.addLayer(first_ndwi, {'palette': ndwi_palette}, 'First NDWI')"
   ]
  },
  {
   "cell_type": "code",
   "execution_count": null,
   "id": "becoming-cinema",
   "metadata": {},
   "outputs": [],
   "source": [
    "water_images = ndwi_images.map(lambda img: img.gt(0).selfMask())\n",
    "\n",
    "first_water = water_images.first()\n",
    "\n",
    "Map.addLayer(first_water, {'palette': ['blue']}, 'First Water')"
   ]
  },
  {
   "cell_type": "code",
   "execution_count": null,
   "id": "continental-mapping",
   "metadata": {},
   "outputs": [],
   "source": [
    "list=[]\n",
    "for i in range(31):\n",
    "    a=1990\n",
    "    b=a+i\n",
    "    list.append('water'+str(b))\n",
    "print(list)\n",
    "  \n",
    "    "
   ]
  },
  {
   "cell_type": "code",
   "execution_count": null,
   "id": "solid-makeup",
   "metadata": {},
   "outputs": [],
   "source": [
    "def cal_area(img):\n",
    "    pixel_area = img.multiply(ee.Image.pixelArea()).divide(1e6)\n",
    "    img_area = pixel_area.reduceRegion(**{\n",
    "        'geometry': roi.geometry(),\n",
    "        'reducer': ee.Reducer.sum(),\n",
    "        'scale': 1000,\n",
    "        'maxPixels': 1e12\n",
    "    })\n",
    "    return img.set({'water_area': img_area})"
   ]
  },
  {
   "cell_type": "code",
   "execution_count": null,
   "id": "turkish-baseline",
   "metadata": {},
   "outputs": [],
   "source": [
    "water_areas = water_images.map(cal_area)"
   ]
  },
  {
   "cell_type": "code",
   "execution_count": null,
   "id": "structural-wrist",
   "metadata": {},
   "outputs": [],
   "source": [
    "water_stats = water_areas.aggregate_array('water_area').getInfo()\n",
    "water_stats"
   ]
  },
  {
   "cell_type": "code",
   "execution_count": null,
   "id": "configured-california",
   "metadata": {
    "scrolled": true
   },
   "outputs": [],
   "source": [
    "geemap.ee_export_image_collection_to_drive(water_images, descriptions=list, folder=\"ndwi_sjy\", region=roi, scale=30, crs=None, file_format='GeoTIFF')"
   ]
  },
  {
   "cell_type": "code",
   "execution_count": null,
   "id": "thick-boston",
   "metadata": {},
   "outputs": [],
   "source": [
    "print(best_image.propertyNames().getInfo())"
   ]
  },
  {
   "cell_type": "code",
   "execution_count": null,
   "id": "spatial-philip",
   "metadata": {},
   "outputs": [],
   "source": [
    "print(best_image.get('system:id').getInfo())"
   ]
  },
  {
   "cell_type": "code",
   "execution_count": null,
   "id": "formed-strength",
   "metadata": {},
   "outputs": [],
   "source": [
    "image = ee.Image('LANDSAT/LC08/C01/T1_SR/LC08_132036_20170911')\n",
    "vis_params = {\n",
    "  'bands': ['B6', 'B5', 'B4'],\n",
    "  'min': 0,\n",
    "  'max': 6000,\n",
    "  'gamma': 1.4,\n",
    "}\n",
    "Map.addLayer(image, vis_params, 'image')\n",
    "Map"
   ]
  },
  {
   "cell_type": "code",
   "execution_count": null,
   "id": "veterinary-generation",
   "metadata": {},
   "outputs": [],
   "source": []
  }
 ],
 "metadata": {
  "kernelspec": {
   "display_name": "Python 3",
   "language": "python",
   "name": "python3"
  },
  "language_info": {
   "codemirror_mode": {
    "name": "ipython",
    "version": 3
   },
   "file_extension": ".py",
   "mimetype": "text/x-python",
   "name": "python",
   "nbconvert_exporter": "python",
   "pygments_lexer": "ipython3",
   "version": "3.8.5"
  }
 },
 "nbformat": 4,
 "nbformat_minor": 5
}
