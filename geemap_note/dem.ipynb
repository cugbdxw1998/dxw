{
 "cells": [
  {
   "cell_type": "code",
   "execution_count": 1,
   "id": "bibliographic-western",
   "metadata": {},
   "outputs": [],
   "source": [
    "import geemap\n",
    "import ee\n",
    "geemap.set_proxy(port=7890)"
   ]
  },
  {
   "cell_type": "code",
   "execution_count": 2,
   "id": "dominican-welding",
   "metadata": {},
   "outputs": [
    {
     "data": {
      "application/vnd.jupyter.widget-view+json": {
       "model_id": "8b632a85138643d3a02fc756dee3c0f9",
       "version_major": 2,
       "version_minor": 0
      },
      "text/plain": [
       "Map(center=[40, -100], controls=(WidgetControl(options=['position', 'transparent_bg'], widget=HBox(children=(T…"
      ]
     },
     "metadata": {},
     "output_type": "display_data"
    }
   ],
   "source": [
    "Map=geemap.Map()\n",
    "Map"
   ]
  },
  {
   "cell_type": "code",
   "execution_count": null,
   "id": "weighted-photographer",
   "metadata": {},
   "outputs": [],
   "source": [
    "dataset_vub = ee.Image('CGIAR/SRTM90_V4')\n",
    "Map.addLayer(dataset_vub, {}, \"CGIAR/SRTM90_V4\")"
   ]
  },
  {
   "cell_type": "code",
   "execution_count": null,
   "id": "pediatric-object",
   "metadata": {},
   "outputs": [],
   "source": [
    "dataset_wei = ee.FeatureCollection('users/cugbxwd/qaidam').geometry()\n",
    "Map.addLayer(dataset_wei, {}, \"qaidam\")"
   ]
  },
  {
   "cell_type": "code",
   "execution_count": null,
   "id": "dominican-gravity",
   "metadata": {},
   "outputs": [],
   "source": [
    "collection=dataset_vub.clip(dataset_wei)\n",
    "Map.addLayer(collection,{},\"DEM\")"
   ]
  },
  {
   "cell_type": "code",
   "execution_count": null,
   "id": "daily-level",
   "metadata": {
    "scrolled": true
   },
   "outputs": [],
   "source": [
    "geemap.ee_export_image_to_drive(collection, \"qaidam_DEM\", folder=\"Qaidam\", region=dataset_wei , scale=30, crs=None, file_format='GeoTIFF')"
   ]
  },
  {
   "cell_type": "code",
   "execution_count": null,
   "id": "auburn-cable",
   "metadata": {},
   "outputs": [],
   "source": []
  }
 ],
 "metadata": {
  "kernelspec": {
   "display_name": "Python 3",
   "language": "python",
   "name": "python3"
  },
  "language_info": {
   "codemirror_mode": {
    "name": "ipython",
    "version": 3
   },
   "file_extension": ".py",
   "mimetype": "text/x-python",
   "name": "python",
   "nbconvert_exporter": "python",
   "pygments_lexer": "ipython3",
   "version": "3.8.5"
  }
 },
 "nbformat": 4,
 "nbformat_minor": 5
}
