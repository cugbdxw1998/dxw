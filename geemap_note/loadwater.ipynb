{
 "cells": [
  {
   "cell_type": "code",
   "execution_count": 1,
   "id": "direct-vegetation",
   "metadata": {},
   "outputs": [],
   "source": [
    "import geemap\n",
    "import os\n",
    "import ee\n",
    "import geemap.colormaps as cm\n",
    "geemap.set_proxy(port=7890)"
   ]
  },
  {
   "cell_type": "code",
   "execution_count": 2,
   "id": "respected-bones",
   "metadata": {
    "scrolled": false
   },
   "outputs": [
    {
     "data": {
      "application/vnd.jupyter.widget-view+json": {
       "model_id": "a553b5227b15476595289f1f531c75a7",
       "version_major": 2,
       "version_minor": 0
      },
      "text/plain": [
       "Map(center=[40, 100], controls=(WidgetControl(options=['position'], widget=HBox(children=(ToggleButton(value=F…"
      ]
     },
     "metadata": {},
     "output_type": "display_data"
    }
   ],
   "source": [
    "Map=geemap.Map(center=(40,100),zoom=4)\n",
    "Map"
   ]
  },
  {
   "cell_type": "code",
   "execution_count": 3,
   "id": "vocational-singing",
   "metadata": {},
   "outputs": [],
   "source": [
    "palette = cm.palettes.dem\n",
    "DEM= ee.Image('USGS/SRTMGL1_003')\n",
    "DEM_vis={\n",
    "    'min': 0 ,\n",
    "    'max': 6500,\n",
    "    'palette':palette\n",
    "}\n",
    "Map.addLayer(DEM, DEM_vis, 'DEM')\n"
   ]
  },
  {
   "cell_type": "code",
   "execution_count": 9,
   "id": "primary-canadian",
   "metadata": {},
   "outputs": [],
   "source": [
    "roi = ee.FeatureCollection('users/cugbxwd/resize').geometry()\n",
    "Map.addLayer(roi, {}, \"resize\")\n",
    "Map.centerObject(roi, 7)"
   ]
  },
  {
   "cell_type": "code",
   "execution_count": 10,
   "id": "southern-blackjack",
   "metadata": {},
   "outputs": [],
   "source": [
    "collection=DEM.clip(roi).unmask()\n",
    "Map.addLayer(collection,DEM_vis,\"image\")"
   ]
  },
  {
   "cell_type": "code",
   "execution_count": 11,
   "id": "racial-floating",
   "metadata": {},
   "outputs": [],
   "source": [
    "Map.add_colorbar(DEM_vis, label=\"Elevation (m)\", orientation=\"vertical\", layer_name=\"SRTM DEM\")"
   ]
  },
  {
   "cell_type": "code",
   "execution_count": null,
   "id": "constant-fusion",
   "metadata": {
    "scrolled": true
   },
   "outputs": [],
   "source": [
    "geemap.ee_export_image_to_drive(collection, description='DEM_sjy', folder='DEM_sjy',region=roi, scale=30,file_format='GeoTIFF')"
   ]
  },
  {
   "cell_type": "code",
   "execution_count": 12,
   "id": "under-excitement",
   "metadata": {},
   "outputs": [],
   "source": [
    "out_dir = os.path.join('E:\\\\geemap\\\\', 'Downloads')\n",
    "filename = os.path.join(out_dir, 'DEM_.tif')"
   ]
  },
  {
   "cell_type": "code",
   "execution_count": 13,
   "id": "female-ottawa",
   "metadata": {},
   "outputs": [
    {
     "name": "stdout",
     "output_type": "stream",
     "text": [
      "Generating URL ...\n",
      "An error occurred while downloading.\n",
      "Pixel grid dimensions (47686x17577) must be less than or equal to 10000.\n"
     ]
    }
   ],
   "source": [
    "geemap.ee_export_image(collection, filename, scale=30,region=roi, file_per_band=False)"
   ]
  },
  {
   "cell_type": "code",
   "execution_count": 14,
   "id": "emotional-likelihood",
   "metadata": {},
   "outputs": [
    {
     "name": "stdout",
     "output_type": "stream",
     "text": [
      "Exporting DEM_sjy ...\n"
     ]
    }
   ],
   "source": [
    "geemap.ee_export_image_to_drive(collection, description='DEM_sjy', folder='DEM_sjy',region=roi, scale=30,file_format='GeoTIFF')"
   ]
  },
  {
   "cell_type": "code",
   "execution_count": null,
   "id": "brief-flavor",
   "metadata": {},
   "outputs": [],
   "source": []
  }
 ],
 "metadata": {
  "kernelspec": {
   "display_name": "Python 3",
   "language": "python",
   "name": "python3"
  },
  "language_info": {
   "codemirror_mode": {
    "name": "ipython",
    "version": 3
   },
   "file_extension": ".py",
   "mimetype": "text/x-python",
   "name": "python",
   "nbconvert_exporter": "python",
   "pygments_lexer": "ipython3",
   "version": "3.8.5"
  }
 },
 "nbformat": 4,
 "nbformat_minor": 5
}
