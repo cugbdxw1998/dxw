{
 "cells": [
  {
   "cell_type": "code",
   "execution_count": 1,
   "id": "ahead-therapy",
   "metadata": {},
   "outputs": [],
   "source": [
    "import geemap\n",
    "import os\n",
    "geemap.set_proxy(port=7890)"
   ]
  },
  {
   "cell_type": "code",
   "execution_count": 2,
   "id": "engaging-reception",
   "metadata": {},
   "outputs": [
    {
     "data": {
      "application/vnd.jupyter.widget-view+json": {
       "model_id": "8fb17a46320641e58a0b8c839f2eb1d1",
       "version_major": 2,
       "version_minor": 0
      },
      "text/plain": [
       "Map(center=[40, -100], controls=(WidgetControl(options=['position'], widget=HBox(children=(ToggleButton(value=…"
      ]
     },
     "metadata": {},
     "output_type": "display_data"
    },
    {
     "data": {
      "application/javascript": [
       "\n",
       "        var code = IPython.notebook.insert_cell_below('code');\n",
       "        code.set_text(atob(\"ZGF0YXNldCA9IGVlLkltYWdlQ29sbGVjdGlvbignTEFORFNBVC9MRTA3L0MwMS9UMScpIFwKICAgICAgICAgICAgICAgICAgLmZpbHRlckRhdGUoJzE5OTktMDEtMDEnLCAnMjAwMi0xMi0zMScpClRydWVDb2xvcjMyMSA9IGRhdGFzZXQuc2VsZWN0KFsnQjMnLCAnQjInLCAnQjEnXSkKVHJ1ZUNvbG9yMzIxVmlzID0ge30KTWFwLnNldENlbnRlcig2Ljc0NiwgNDYuNTI5LCA2KQpNYXAuYWRkTGF5ZXIoVHJ1ZUNvbG9yMzIxLCBUcnVlQ29sb3IzMjFWaXMsICdUcnVlIENvbG9yICgzMjEpJykK\"));\n",
       "    "
      ],
      "text/plain": [
       "<IPython.core.display.Javascript object>"
      ]
     },
     "metadata": {},
     "output_type": "display_data"
    }
   ],
   "source": [
    "Map=geemap.Map()\n",
    "Map"
   ]
  },
  {
   "cell_type": "code",
   "execution_count": 13,
   "id": "together-afghanistan",
   "metadata": {},
   "outputs": [],
   "source": [
    "dataset = geemap.landsat_timeseries(roi=roi, start_year=2012, end_year=2012, start_date='09-01', end_date='10-30')"
   ]
  },
  {
   "cell_type": "code",
   "execution_count": 10,
   "id": "floral-boxing",
   "metadata": {},
   "outputs": [
    {
     "data": {
      "application/vnd.jupyter.widget-view+json": {
       "model_id": "1dc8a2c3e0034a50b8898166385c260f",
       "version_major": 2,
       "version_minor": 0
      },
      "text/plain": [
       "HBox(children=(VBox(), VBox()))"
      ]
     },
     "metadata": {},
     "output_type": "display_data"
    },
    {
     "data": {
      "application/javascript": [
       "\n",
       "        var code = IPython.notebook.insert_cell_below('code');\n",
       "        code.set_text(atob(\"ZGF0YXNldF9rdmYgPSBlZS5GZWF0dXJlQ29sbGVjdGlvbigndXNlcnMvY3VnYnh3ZC9xYWlkYW0nKQpNYXAuYWRkTGF5ZXIoZGF0YXNldF9rdmYsIHt9LCAicWFpZGFtIik=\"));\n",
       "    "
      ],
      "text/plain": [
       "<IPython.core.display.Javascript object>"
      ]
     },
     "metadata": {},
     "output_type": "display_data"
    }
   ],
   "source": [
    "geemap.ee_search()"
   ]
  },
  {
   "cell_type": "code",
   "execution_count": 12,
   "id": "amazing-madagascar",
   "metadata": {},
   "outputs": [],
   "source": [
    "roi= ee.FeatureCollection('users/cugbxwd/qaidam')\n",
    "Map.addLayer(roi, {}, \"qaidam\")"
   ]
  },
  {
   "cell_type": "code",
   "execution_count": null,
   "id": "clean-brown",
   "metadata": {},
   "outputs": [],
   "source": []
  },
  {
   "cell_type": "code",
   "execution_count": 16,
   "id": "palestinian-rolling",
   "metadata": {},
   "outputs": [],
   "source": [
    "collection=dataset.median().clip(qaidam)\n",
    "collection_vis={\n",
    "  'min': 0,\n",
    "  'max': 3000,\n",
    "  'gamma': 1.2,\n",
    "  \n",
    "}\n",
    "Map.addLayer(collection,collection_vis,\"clipQaidam2\")"
   ]
  },
  {
   "cell_type": "code",
   "execution_count": null,
   "id": "sustainable-debut",
   "metadata": {},
   "outputs": [],
   "source": [
    "geemap.ee_export_image_to_drive(collection, \"qaidam_Landsat\", folder=\"Qaidam\", region=qaidam , scale=30, crs=None, file_format='GeoTIFF')"
   ]
  },
  {
   "cell_type": "code",
   "execution_count": null,
   "id": "removable-adoption",
   "metadata": {},
   "outputs": [],
   "source": []
  },
  {
   "cell_type": "code",
   "execution_count": null,
   "id": "serious-domestic",
   "metadata": {},
   "outputs": [],
   "source": []
  }
 ],
 "metadata": {
  "kernelspec": {
   "display_name": "Python 3",
   "language": "python",
   "name": "python3"
  },
  "language_info": {
   "codemirror_mode": {
    "name": "ipython",
    "version": 3
   },
   "file_extension": ".py",
   "mimetype": "text/x-python",
   "name": "python",
   "nbconvert_exporter": "python",
   "pygments_lexer": "ipython3",
   "version": "3.8.5"
  }
 },
 "nbformat": 4,
 "nbformat_minor": 5
}
