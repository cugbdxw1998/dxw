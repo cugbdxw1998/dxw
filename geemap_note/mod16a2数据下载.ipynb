{
 "cells": [
  {
   "cell_type": "code",
   "execution_count": 1,
   "id": "certified-reader",
   "metadata": {},
   "outputs": [],
   "source": [
    "import geemap\n",
    "import ee\n",
    "import os\n",
    "geemap.set_proxy(port=7890)"
   ]
  },
  {
   "cell_type": "code",
   "execution_count": 2,
   "id": "considerable-albuquerque",
   "metadata": {},
   "outputs": [],
   "source": [
    "Map=geemap.Map()"
   ]
  },
  {
   "cell_type": "code",
   "execution_count": null,
   "id": "explicit-regulation",
   "metadata": {},
   "outputs": [],
   "source": [
    "geemap.ee_search()"
   ]
  },
  {
   "cell_type": "code",
   "execution_count": 3,
   "id": "contrary-cemetery",
   "metadata": {},
   "outputs": [
    {
     "data": {
      "application/vnd.jupyter.widget-view+json": {
       "model_id": "4504fcb15da34784abce786f599d53ee",
       "version_major": 2,
       "version_minor": 0
      },
      "text/plain": [
       "Map(center=[40, -100], controls=(WidgetControl(options=['position', 'transparent_bg'], widget=HBox(children=(T…"
      ]
     },
     "metadata": {},
     "output_type": "display_data"
    }
   ],
   "source": [
    "zc= ee.FeatureCollection('users/cugbxwd/zhangcheng')\n",
    "Map.addLayer(zc, {}, \"zhangcheng\")\n",
    "Map"
   ]
  },
  {
   "cell_type": "code",
   "execution_count": null,
   "id": "polar-germany",
   "metadata": {},
   "outputs": [],
   "source": [
    "def et_year(year):\n",
    "    startDate = ee.Date.fromYMD(year, 1, 1)\n",
    "    endDate = ee.Date.fromYMD(year, 12, 31)\n",
    "    dataset = ee.ImageCollection('MODIS/006/MOD16A2') \\\n",
    "                  .filter(ee.Filter.date(startDate, endDate))\n",
    "    evapotranspiration = dataset.select('ET').filterBounds(zc)\n",
    "    evapotranspirationVis = {\n",
    "      'min': 0.0,\n",
    "      'max': 300.0,\n",
    "      'palette': [\n",
    "        'ffffff', 'fcd163', '99b718', '66a000', '3e8601', '207401', '056201',\n",
    "        '004c00', '011301'\n",
    "      ],\n",
    "    }\n",
    "    Map.addLayer(evapotranspiration, evapotranspirationVis, 'Evapotranspiration')\n",
    "    \n",
    "    out_dir = os.path.join(\"E:\\\\zhangcheng\")\n",
    "    filename = os.path.join(out_dir,'et'+str(year) + '.csv')\n",
    "    geemap.zonal_statistics(evapotranspiration, zc, filename, statistics_type='MEAN', scale=500)\n"
   ]
  },
  {
   "cell_type": "code",
   "execution_count": null,
   "id": "worldwide-backup",
   "metadata": {
    "scrolled": true
   },
   "outputs": [],
   "source": [
    "years=list(range(2001,2021,1))\n",
    "for year in years:\n",
    "    et_year(year)\n"
   ]
  },
  {
   "cell_type": "code",
   "execution_count": null,
   "id": "powerful-antenna",
   "metadata": {},
   "outputs": [],
   "source": [
    "et_year(2012)"
   ]
  },
  {
   "cell_type": "code",
   "execution_count": null,
   "id": "conscious-trouble",
   "metadata": {},
   "outputs": [],
   "source": []
  },
  {
   "cell_type": "code",
   "execution_count": null,
   "id": "pressing-installation",
   "metadata": {},
   "outputs": [],
   "source": []
  }
 ],
 "metadata": {
  "kernelspec": {
   "display_name": "Python 3",
   "language": "python",
   "name": "python3"
  },
  "language_info": {
   "codemirror_mode": {
    "name": "ipython",
    "version": 3
   },
   "file_extension": ".py",
   "mimetype": "text/x-python",
   "name": "python",
   "nbconvert_exporter": "python",
   "pygments_lexer": "ipython3",
   "version": "3.8.5"
  }
 },
 "nbformat": 4,
 "nbformat_minor": 5
}
