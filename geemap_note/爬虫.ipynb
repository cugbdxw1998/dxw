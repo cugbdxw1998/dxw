{
 "cells": [
  {
   "cell_type": "code",
   "execution_count": 1,
   "id": "manual-commissioner",
   "metadata": {},
   "outputs": [],
   "source": [
    "import requests\n",
    "import re"
   ]
  },
  {
   "cell_type": "code",
   "execution_count": 2,
   "id": "precious-contents",
   "metadata": {},
   "outputs": [],
   "source": [
    "\n",
    "        r = requests.get(url,headers=kv,timeout=30)\n",
    "        r.raise_for_status()\n",
    "        r.encoding = r.apparent_encoding\n",
    "        return r.text\n"
   ]
  },
  {
   "cell_type": "code",
   "execution_count": null,
   "id": "collective-glasgow",
   "metadata": {},
   "outputs": [],
   "source": [
    " r = requests.get(url='',headers=kv,timeout=30)"
   ]
  }
 ],
 "metadata": {
  "kernelspec": {
   "display_name": "Python 3",
   "language": "python",
   "name": "python3"
  },
  "language_info": {
   "codemirror_mode": {
    "name": "ipython",
    "version": 3
   },
   "file_extension": ".py",
   "mimetype": "text/x-python",
   "name": "python",
   "nbconvert_exporter": "python",
   "pygments_lexer": "ipython3",
   "version": "3.8.5"
  }
 },
 "nbformat": 4,
 "nbformat_minor": 5
}
